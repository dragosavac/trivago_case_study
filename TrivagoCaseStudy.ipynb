{
 "cells": [
  {
   "cell_type": "markdown",
   "metadata": {},
   "source": [
    "# Trivago case study\n"
   ]
  },
  {
   "cell_type": "code",
   "execution_count": 139,
   "metadata": {},
   "outputs": [],
   "source": [
    "import pandas as pd\n",
    "import numpy as np\n",
    "import matplotlib.pyplot as plt\n",
    "import seaborn as sns\n",
    "from scipy.stats import ttest_ind\n",
    "\n",
    "\n",
    "DATA = '../TrivagoCaseStudy/data/'"
   ]
  },
  {
   "cell_type": "markdown",
   "metadata": {},
   "source": [
    "First step we need to take after importing libraries is converting(reading) a comma-separated values (csv) file into DataFrame. First dataset contains metrics for February and second dataset contains metrics for May."
   ]
  },
  {
   "cell_type": "code",
   "execution_count": 140,
   "metadata": {},
   "outputs": [],
   "source": [
    "test_february = pd.read_csv(DATA + 'test1.csv')\n",
    "test_may = pd.read_csv(DATA + 'test2.csv')\n"
   ]
  },
  {
   "cell_type": "code",
   "execution_count": 141,
   "metadata": {},
   "outputs": [
    {
     "data": {
      "text/html": [
       "<div>\n",
       "<style scoped>\n",
       "    .dataframe tbody tr th:only-of-type {\n",
       "        vertical-align: middle;\n",
       "    }\n",
       "\n",
       "    .dataframe tbody tr th {\n",
       "        vertical-align: top;\n",
       "    }\n",
       "\n",
       "    .dataframe thead th {\n",
       "        text-align: right;\n",
       "    }\n",
       "</style>\n",
       "<table border=\"1\" class=\"dataframe\">\n",
       "  <thead>\n",
       "    <tr style=\"text-align: right;\">\n",
       "      <th></th>\n",
       "      <th>ymd</th>\n",
       "      <th>platform</th>\n",
       "      <th>group</th>\n",
       "      <th>visits</th>\n",
       "      <th>clicks</th>\n",
       "      <th>revenue</th>\n",
       "      <th>bookings</th>\n",
       "      <th>booking_amount</th>\n",
       "    </tr>\n",
       "  </thead>\n",
       "  <tbody>\n",
       "    <tr>\n",
       "      <th>0</th>\n",
       "      <td>2019-02-01</td>\n",
       "      <td>US</td>\n",
       "      <td>test</td>\n",
       "      <td>19219</td>\n",
       "      <td>17289</td>\n",
       "      <td>23752.189583</td>\n",
       "      <td>1072</td>\n",
       "      <td>2.152443e+05</td>\n",
       "    </tr>\n",
       "    <tr>\n",
       "      <th>1</th>\n",
       "      <td>2019-02-01</td>\n",
       "      <td>US</td>\n",
       "      <td>control</td>\n",
       "      <td>204923</td>\n",
       "      <td>184276</td>\n",
       "      <td>250169.068436</td>\n",
       "      <td>11775</td>\n",
       "      <td>2.176644e+06</td>\n",
       "    </tr>\n",
       "    <tr>\n",
       "      <th>2</th>\n",
       "      <td>2019-02-01</td>\n",
       "      <td>DE</td>\n",
       "      <td>test</td>\n",
       "      <td>14788</td>\n",
       "      <td>13273</td>\n",
       "      <td>10381.106892</td>\n",
       "      <td>492</td>\n",
       "      <td>9.205639e+04</td>\n",
       "    </tr>\n",
       "    <tr>\n",
       "      <th>3</th>\n",
       "      <td>2019-02-01</td>\n",
       "      <td>DE</td>\n",
       "      <td>control</td>\n",
       "      <td>106112</td>\n",
       "      <td>95555</td>\n",
       "      <td>72563.524075</td>\n",
       "      <td>3621</td>\n",
       "      <td>7.719909e+05</td>\n",
       "    </tr>\n",
       "    <tr>\n",
       "      <th>4</th>\n",
       "      <td>2019-02-01</td>\n",
       "      <td>UK</td>\n",
       "      <td>test</td>\n",
       "      <td>13823</td>\n",
       "      <td>12441</td>\n",
       "      <td>10472.761095</td>\n",
       "      <td>486</td>\n",
       "      <td>1.003405e+05</td>\n",
       "    </tr>\n",
       "  </tbody>\n",
       "</table>\n",
       "</div>"
      ],
      "text/plain": [
       "          ymd platform    group  visits  clicks        revenue  bookings  \\\n",
       "0  2019-02-01       US     test   19219   17289   23752.189583      1072   \n",
       "1  2019-02-01       US  control  204923  184276  250169.068436     11775   \n",
       "2  2019-02-01       DE     test   14788   13273   10381.106892       492   \n",
       "3  2019-02-01       DE  control  106112   95555   72563.524075      3621   \n",
       "4  2019-02-01       UK     test   13823   12441   10472.761095       486   \n",
       "\n",
       "   booking_amount  \n",
       "0    2.152443e+05  \n",
       "1    2.176644e+06  \n",
       "2    9.205639e+04  \n",
       "3    7.719909e+05  \n",
       "4    1.003405e+05  "
      ]
     },
     "execution_count": 141,
     "metadata": {},
     "output_type": "execute_result"
    }
   ],
   "source": [
    "test_february.head()\n"
   ]
  },
  {
   "cell_type": "code",
   "execution_count": 142,
   "metadata": {},
   "outputs": [
    {
     "data": {
      "text/html": [
       "<div>\n",
       "<style scoped>\n",
       "    .dataframe tbody tr th:only-of-type {\n",
       "        vertical-align: middle;\n",
       "    }\n",
       "\n",
       "    .dataframe tbody tr th {\n",
       "        vertical-align: top;\n",
       "    }\n",
       "\n",
       "    .dataframe thead th {\n",
       "        text-align: right;\n",
       "    }\n",
       "</style>\n",
       "<table border=\"1\" class=\"dataframe\">\n",
       "  <thead>\n",
       "    <tr style=\"text-align: right;\">\n",
       "      <th></th>\n",
       "      <th>ymd</th>\n",
       "      <th>platform</th>\n",
       "      <th>group</th>\n",
       "      <th>visits</th>\n",
       "      <th>clicks</th>\n",
       "      <th>revenue</th>\n",
       "      <th>bookings</th>\n",
       "      <th>booking_amount</th>\n",
       "    </tr>\n",
       "  </thead>\n",
       "  <tbody>\n",
       "    <tr>\n",
       "      <th>0</th>\n",
       "      <td>2019-05-01</td>\n",
       "      <td>US</td>\n",
       "      <td>test</td>\n",
       "      <td>18978</td>\n",
       "      <td>16560</td>\n",
       "      <td>22868.156215</td>\n",
       "      <td>1400</td>\n",
       "      <td>3.079888e+05</td>\n",
       "    </tr>\n",
       "    <tr>\n",
       "      <th>1</th>\n",
       "      <td>2019-05-01</td>\n",
       "      <td>US</td>\n",
       "      <td>control</td>\n",
       "      <td>188086</td>\n",
       "      <td>169373</td>\n",
       "      <td>208131.939979</td>\n",
       "      <td>13558</td>\n",
       "      <td>2.780706e+06</td>\n",
       "    </tr>\n",
       "    <tr>\n",
       "      <th>2</th>\n",
       "      <td>2019-05-01</td>\n",
       "      <td>DE</td>\n",
       "      <td>test</td>\n",
       "      <td>8441</td>\n",
       "      <td>7358</td>\n",
       "      <td>5214.547510</td>\n",
       "      <td>348</td>\n",
       "      <td>6.683872e+04</td>\n",
       "    </tr>\n",
       "    <tr>\n",
       "      <th>3</th>\n",
       "      <td>2019-05-01</td>\n",
       "      <td>DE</td>\n",
       "      <td>control</td>\n",
       "      <td>90793</td>\n",
       "      <td>81661</td>\n",
       "      <td>55249.407028</td>\n",
       "      <td>3185</td>\n",
       "      <td>6.243513e+05</td>\n",
       "    </tr>\n",
       "    <tr>\n",
       "      <th>4</th>\n",
       "      <td>2019-05-01</td>\n",
       "      <td>UK</td>\n",
       "      <td>test</td>\n",
       "      <td>10907</td>\n",
       "      <td>9557</td>\n",
       "      <td>8853.686349</td>\n",
       "      <td>403</td>\n",
       "      <td>8.820581e+04</td>\n",
       "    </tr>\n",
       "  </tbody>\n",
       "</table>\n",
       "</div>"
      ],
      "text/plain": [
       "          ymd platform    group  visits  clicks        revenue  bookings  \\\n",
       "0  2019-05-01       US     test   18978   16560   22868.156215      1400   \n",
       "1  2019-05-01       US  control  188086  169373  208131.939979     13558   \n",
       "2  2019-05-01       DE     test    8441    7358    5214.547510       348   \n",
       "3  2019-05-01       DE  control   90793   81661   55249.407028      3185   \n",
       "4  2019-05-01       UK     test   10907    9557    8853.686349       403   \n",
       "\n",
       "   booking_amount  \n",
       "0    3.079888e+05  \n",
       "1    2.780706e+06  \n",
       "2    6.683872e+04  \n",
       "3    6.243513e+05  \n",
       "4    8.820581e+04  "
      ]
     },
     "execution_count": 142,
     "metadata": {},
     "output_type": "execute_result"
    }
   ],
   "source": [
    "test_may.head()\n"
   ]
  },
  {
   "cell_type": "code",
   "execution_count": 143,
   "metadata": {},
   "outputs": [
    {
     "name": "stdout",
     "output_type": "stream",
     "text": [
      "{'AU', 'UK', 'BR', 'US', 'JP', 'DE'}\n",
      "{'AU', 'UK', 'BR', 'US', 'JP', 'DE'}\n",
      "{'control', 'test'}\n",
      "{'control', 'test'}\n"
     ]
    }
   ],
   "source": [
    "print(set(test_february['platform']))\n",
    "print(set(test_may['platform']))\n",
    "print(set(test_february['group']))\n",
    "print(set(test_may['group']))\n"
   ]
  },
  {
   "cell_type": "markdown",
   "metadata": {},
   "source": [
    "After taking a quick look on the data, we can see that we have 6 unique platforms(countries), and two groups(control and test). Each day in month contains data for each platform and both groups(12 rows for each day). Before we proceed with data analysis, we need to do some feature engineering. Since we will need to analyse metrics in different periods of time, it will be usefull to create a separate columns for day, month and year in datasets. Also, since control group data has been shown to the majority of the users(about 90%), we will need to create a variable/column which will represents conversion rate for test and control set of data.\n",
    "Generally, conversion rate is the number of conversions divided by the total number of visitors, and it allows us to measure the performance of our web pages and apps. In this case I've decided to divide number of bookings by the number of clicks, because clicks are redirecting users to the websites of advertisers. After that, I converted it into percents, in order to be easier to read.\n",
    "Also, I've added a revenue_per_click column, and removed ymd, year and month columns after I've checked if it has same values... \n"
   ]
  },
  {
   "cell_type": "code",
   "execution_count": 157,
   "metadata": {},
   "outputs": [],
   "source": [
    "def feature_engineering(df):\n",
    "     \n",
    "     df['year'] = pd.DatetimeIndex(df['ymd']).year\n",
    "     df['day'] = pd.DatetimeIndex(df['ymd']).day\n",
    "     df['month'] = pd.DatetimeIndex(df['ymd']).month\n",
    "     \n",
    "     df['booking_amount'] = df['booking_amount'].astype(int)\n",
    "     df['revenue_per_click'] = (df['revenue']/df['clicks'])\n",
    "     df['conversion_rate(%)'] = df['bookings']/df['clicks'] * 100\n",
    "     df.drop(columns=['ymd', 'month', 'year'], inplace=True)\n",
    "     \n",
    "     return df   "
   ]
  },
  {
   "cell_type": "markdown",
   "metadata": {},
   "source": [
    "We will call function for feature engineering on both sets of data"
   ]
  },
  {
   "cell_type": "code",
   "execution_count": null,
   "metadata": {},
   "outputs": [],
   "source": [
    "feature_engineering(test_february)\n",
    "feature_engineering(test_may)\n"
   ]
  },
  {
   "cell_type": "markdown",
   "metadata": {},
   "source": [
    "It is always a good practice to check if there is a missing data in datasets."
   ]
  },
  {
   "cell_type": "code",
   "execution_count": 159,
   "metadata": {},
   "outputs": [
    {
     "data": {
      "text/plain": [
       "platform              0\n",
       "group                 0\n",
       "visits                0\n",
       "clicks                0\n",
       "revenue               0\n",
       "bookings              0\n",
       "booking_amount        0\n",
       "day                   0\n",
       "revenue_per_click     0\n",
       "conversion_rate(%)    0\n",
       "dtype: int64"
      ]
     },
     "execution_count": 159,
     "metadata": {},
     "output_type": "execute_result"
    }
   ],
   "source": [
    "test_february.isnull().sum()"
   ]
  },
  {
   "cell_type": "code",
   "execution_count": 160,
   "metadata": {},
   "outputs": [
    {
     "data": {
      "text/plain": [
       "platform              0\n",
       "group                 0\n",
       "visits                0\n",
       "clicks                0\n",
       "revenue               0\n",
       "bookings              0\n",
       "booking_amount        0\n",
       "day                   0\n",
       "revenue_per_click     0\n",
       "conversion_rate(%)    0\n",
       "dtype: int64"
      ]
     },
     "execution_count": 160,
     "metadata": {},
     "output_type": "execute_result"
    }
   ],
   "source": [
    "test_may.isnull().sum()"
   ]
  },
  {
   "cell_type": "code",
   "execution_count": 195,
   "metadata": {},
   "outputs": [
    {
     "data": {
      "text/html": [
       "<div>\n",
       "<style scoped>\n",
       "    .dataframe tbody tr th:only-of-type {\n",
       "        vertical-align: middle;\n",
       "    }\n",
       "\n",
       "    .dataframe tbody tr th {\n",
       "        vertical-align: top;\n",
       "    }\n",
       "\n",
       "    .dataframe thead th {\n",
       "        text-align: right;\n",
       "    }\n",
       "</style>\n",
       "<table border=\"1\" class=\"dataframe\">\n",
       "  <thead>\n",
       "    <tr style=\"text-align: right;\">\n",
       "      <th></th>\n",
       "      <th>platform</th>\n",
       "      <th>group</th>\n",
       "      <th>visits</th>\n",
       "      <th>clicks</th>\n",
       "      <th>revenue</th>\n",
       "      <th>bookings</th>\n",
       "      <th>booking_amount</th>\n",
       "      <th>day</th>\n",
       "      <th>revenue_per_click</th>\n",
       "      <th>conversion_rate(%)</th>\n",
       "    </tr>\n",
       "  </thead>\n",
       "  <tbody>\n",
       "    <tr>\n",
       "      <th>0</th>\n",
       "      <td>US</td>\n",
       "      <td>test</td>\n",
       "      <td>19219</td>\n",
       "      <td>17289</td>\n",
       "      <td>23752.189583</td>\n",
       "      <td>1072</td>\n",
       "      <td>215244</td>\n",
       "      <td>1</td>\n",
       "      <td>1.373832</td>\n",
       "      <td>6.200474</td>\n",
       "    </tr>\n",
       "    <tr>\n",
       "      <th>1</th>\n",
       "      <td>US</td>\n",
       "      <td>control</td>\n",
       "      <td>204923</td>\n",
       "      <td>184276</td>\n",
       "      <td>250169.068436</td>\n",
       "      <td>11775</td>\n",
       "      <td>2176644</td>\n",
       "      <td>1</td>\n",
       "      <td>1.357578</td>\n",
       "      <td>6.389872</td>\n",
       "    </tr>\n",
       "    <tr>\n",
       "      <th>2</th>\n",
       "      <td>DE</td>\n",
       "      <td>test</td>\n",
       "      <td>14788</td>\n",
       "      <td>13273</td>\n",
       "      <td>10381.106892</td>\n",
       "      <td>492</td>\n",
       "      <td>92056</td>\n",
       "      <td>1</td>\n",
       "      <td>0.782122</td>\n",
       "      <td>3.706773</td>\n",
       "    </tr>\n",
       "    <tr>\n",
       "      <th>3</th>\n",
       "      <td>DE</td>\n",
       "      <td>control</td>\n",
       "      <td>106112</td>\n",
       "      <td>95555</td>\n",
       "      <td>72563.524075</td>\n",
       "      <td>3621</td>\n",
       "      <td>771990</td>\n",
       "      <td>1</td>\n",
       "      <td>0.759390</td>\n",
       "      <td>3.789441</td>\n",
       "    </tr>\n",
       "    <tr>\n",
       "      <th>4</th>\n",
       "      <td>UK</td>\n",
       "      <td>test</td>\n",
       "      <td>13823</td>\n",
       "      <td>12441</td>\n",
       "      <td>10472.761095</td>\n",
       "      <td>486</td>\n",
       "      <td>100340</td>\n",
       "      <td>1</td>\n",
       "      <td>0.841794</td>\n",
       "      <td>3.906438</td>\n",
       "    </tr>\n",
       "  </tbody>\n",
       "</table>\n",
       "</div>"
      ],
      "text/plain": [
       "  platform    group  visits  clicks        revenue  bookings  booking_amount  \\\n",
       "0       US     test   19219   17289   23752.189583      1072          215244   \n",
       "1       US  control  204923  184276  250169.068436     11775         2176644   \n",
       "2       DE     test   14788   13273   10381.106892       492           92056   \n",
       "3       DE  control  106112   95555   72563.524075      3621          771990   \n",
       "4       UK     test   13823   12441   10472.761095       486          100340   \n",
       "\n",
       "   day  revenue_per_click  conversion_rate(%)  \n",
       "0    1           1.373832            6.200474  \n",
       "1    1           1.357578            6.389872  \n",
       "2    1           0.782122            3.706773  \n",
       "3    1           0.759390            3.789441  \n",
       "4    1           0.841794            3.906438  "
      ]
     },
     "execution_count": 195,
     "metadata": {},
     "output_type": "execute_result"
    }
   ],
   "source": [
    "test_february.head()"
   ]
  },
  {
   "cell_type": "code",
   "execution_count": 164,
   "metadata": {},
   "outputs": [
    {
     "data": {
      "text/html": [
       "<div>\n",
       "<style scoped>\n",
       "    .dataframe tbody tr th:only-of-type {\n",
       "        vertical-align: middle;\n",
       "    }\n",
       "\n",
       "    .dataframe tbody tr th {\n",
       "        vertical-align: top;\n",
       "    }\n",
       "\n",
       "    .dataframe thead th {\n",
       "        text-align: right;\n",
       "    }\n",
       "</style>\n",
       "<table border=\"1\" class=\"dataframe\">\n",
       "  <thead>\n",
       "    <tr style=\"text-align: right;\">\n",
       "      <th></th>\n",
       "      <th>platform</th>\n",
       "      <th>group</th>\n",
       "      <th>visits</th>\n",
       "      <th>clicks</th>\n",
       "      <th>revenue</th>\n",
       "      <th>bookings</th>\n",
       "      <th>booking_amount</th>\n",
       "      <th>day</th>\n",
       "      <th>revenue_per_click</th>\n",
       "      <th>conversion_rate(%)</th>\n",
       "    </tr>\n",
       "  </thead>\n",
       "  <tbody>\n",
       "    <tr>\n",
       "      <th>0</th>\n",
       "      <td>US</td>\n",
       "      <td>test</td>\n",
       "      <td>18978</td>\n",
       "      <td>16560</td>\n",
       "      <td>22868.156215</td>\n",
       "      <td>1400</td>\n",
       "      <td>307988</td>\n",
       "      <td>1</td>\n",
       "      <td>1.380927</td>\n",
       "      <td>8.454106</td>\n",
       "    </tr>\n",
       "    <tr>\n",
       "      <th>1</th>\n",
       "      <td>US</td>\n",
       "      <td>control</td>\n",
       "      <td>188086</td>\n",
       "      <td>169373</td>\n",
       "      <td>208131.939979</td>\n",
       "      <td>13558</td>\n",
       "      <td>2780706</td>\n",
       "      <td>1</td>\n",
       "      <td>1.228838</td>\n",
       "      <td>8.004818</td>\n",
       "    </tr>\n",
       "    <tr>\n",
       "      <th>2</th>\n",
       "      <td>DE</td>\n",
       "      <td>test</td>\n",
       "      <td>8441</td>\n",
       "      <td>7358</td>\n",
       "      <td>5214.547510</td>\n",
       "      <td>348</td>\n",
       "      <td>66838</td>\n",
       "      <td>1</td>\n",
       "      <td>0.708691</td>\n",
       "      <td>4.729546</td>\n",
       "    </tr>\n",
       "    <tr>\n",
       "      <th>3</th>\n",
       "      <td>DE</td>\n",
       "      <td>control</td>\n",
       "      <td>90793</td>\n",
       "      <td>81661</td>\n",
       "      <td>55249.407028</td>\n",
       "      <td>3185</td>\n",
       "      <td>624351</td>\n",
       "      <td>1</td>\n",
       "      <td>0.676570</td>\n",
       "      <td>3.900271</td>\n",
       "    </tr>\n",
       "    <tr>\n",
       "      <th>4</th>\n",
       "      <td>UK</td>\n",
       "      <td>test</td>\n",
       "      <td>10907</td>\n",
       "      <td>9557</td>\n",
       "      <td>8853.686349</td>\n",
       "      <td>403</td>\n",
       "      <td>88205</td>\n",
       "      <td>1</td>\n",
       "      <td>0.926409</td>\n",
       "      <td>4.216804</td>\n",
       "    </tr>\n",
       "  </tbody>\n",
       "</table>\n",
       "</div>"
      ],
      "text/plain": [
       "  platform    group  visits  clicks        revenue  bookings  booking_amount  \\\n",
       "0       US     test   18978   16560   22868.156215      1400          307988   \n",
       "1       US  control  188086  169373  208131.939979     13558         2780706   \n",
       "2       DE     test    8441    7358    5214.547510       348           66838   \n",
       "3       DE  control   90793   81661   55249.407028      3185          624351   \n",
       "4       UK     test   10907    9557    8853.686349       403           88205   \n",
       "\n",
       "   day  revenue_per_click  conversion_rate(%)  \n",
       "0    1           1.380927            8.454106  \n",
       "1    1           1.228838            8.004818  \n",
       "2    1           0.708691            4.729546  \n",
       "3    1           0.676570            3.900271  \n",
       "4    1           0.926409            4.216804  "
      ]
     },
     "execution_count": 164,
     "metadata": {},
     "output_type": "execute_result"
    }
   ],
   "source": [
    "test_may.head()"
   ]
  },
  {
   "cell_type": "markdown",
   "metadata": {},
   "source": [
    "# Task 1- Data Exploration "
   ]
  },
  {
   "cell_type": "markdown",
   "metadata": {},
   "source": [
    "### Which platform is most valuable platform for Trivago? Why?"
   ]
  },
  {
   "cell_type": "code",
   "execution_count": 165,
   "metadata": {},
   "outputs": [
    {
     "data": {
      "image/png": "[encoded data removed]",
      "text/plain": [
       "<Figure size 432x288 with 1 Axes>"
      ]
     },
     "metadata": {
      "needs_background": "light"
     },
     "output_type": "display_data"
    }
   ],
   "source": [
    "def visualize_data(title, xlabel, ylabel, x, y, df):\n",
    "    plt.bar(df[x], df[y])\n",
    "    plt.title(title)\n",
    "    plt.xlabel(xlabel)\n",
    "    plt.ylabel(ylabel)\n",
    "    plt.show()\n",
    "    \n",
    "visualize_data('Platform vs Revenue in February', \n",
    "               'Platform', 'Revenue', \n",
    "               'platform', \n",
    "               'revenue', test_february)\n"
   ]
  },
  {
   "cell_type": "code",
   "execution_count": 167,
   "metadata": {},
   "outputs": [
    {
     "data": {
      "image/png": "[encoded data removed]",
      "text/plain": [
       "<Figure size 432x288 with 1 Axes>"
      ]
     },
     "metadata": {
      "needs_background": "light"
     },
     "output_type": "display_data"
    }
   ],
   "source": [
    "visualize_data('Platform vs Booking in February', \n",
    "               'Platform', 'Booking', \n",
    "               'platform', \n",
    "               'bookings', test_february)\n"
   ]
  },
  {
   "cell_type": "code",
   "execution_count": 171,
   "metadata": {},
   "outputs": [
    {
     "data": {
      "image/png": "[encoded data removed]",
      "text/plain": [
       "<Figure size 432x288 with 1 Axes>"
      ]
     },
     "metadata": {
      "needs_background": "light"
     },
     "output_type": "display_data"
    }
   ],
   "source": [
    "visualize_data('Platform vs Booking Amount in February', \n",
    "               'Platform', 'Booking Amount', \n",
    "               'platform', \n",
    "               'booking_amount', test_february)\n"
   ]
  },
  {
   "cell_type": "code",
   "execution_count": 178,
   "metadata": {},
   "outputs": [
    {
     "data": {
      "image/png": "[encoded data removed]",
      "text/plain": [
       "<Figure size 432x288 with 1 Axes>"
      ]
     },
     "metadata": {
      "needs_background": "light"
     },
     "output_type": "display_data"
    }
   ],
   "source": [
    "visualize_data('Platform vs Revenue in May', \n",
    "               'Platform', 'Revenue', \n",
    "               'platform', \n",
    "               'revenue', test_may)\n"
   ]
  },
  {
   "cell_type": "code",
   "execution_count": 177,
   "metadata": {},
   "outputs": [
    {
     "data": {
      "image/png": "[encoded data removed]",
      "text/plain": [
       "<Figure size 432x288 with 1 Axes>"
      ]
     },
     "metadata": {
      "needs_background": "light"
     },
     "output_type": "display_data"
    }
   ],
   "source": [
    "visualize_data('Platform vs Booking in May', \n",
    "               'Platform', 'Booking', \n",
    "               'platform', \n",
    "               'bookings', test_may)\n"
   ]
  },
  {
   "cell_type": "code",
   "execution_count": 187,
   "metadata": {},
   "outputs": [
    {
     "data": {
      "image/png": "[encoded data removed]",
      "text/plain": [
       "<Figure size 432x288 with 1 Axes>"
      ]
     },
     "metadata": {
      "needs_background": "light"
     },
     "output_type": "display_data"
    }
   ],
   "source": [
    "visualize_data('Platform vs Booking Amount in May', \n",
    "               'Platform', 'Booking Amount', \n",
    "               'platform', \n",
    "               'booking_amount', test_may)\n"
   ]
  },
  {
   "cell_type": "code",
   "execution_count": 220,
   "metadata": {},
   "outputs": [
    {
     "data": {
      "image/png": "[encoded data removed]",
      "text/plain": [
       "<Figure size 432x288 with 1 Axes>"
      ]
     },
     "metadata": {
      "needs_background": "light"
     },
     "output_type": "display_data"
    }
   ],
   "source": [
    "visualize_data('Platform vs Booking Amount in May', \n",
    "               'Platform', 'Booking Amount', \n",
    "               'platform', \n",
    "               'clicks', test_may)\n"
   ]
  },
  {
   "cell_type": "markdown",
   "metadata": {},
   "source": [
    "##### Conversion rate vs platforms for february(test group)"
   ]
  },
  {
   "cell_type": "code",
   "execution_count": 225,
   "metadata": {},
   "outputs": [
    {
     "data": {
      "image/png": "[encoded data removed]",
      "text/plain": [
       "<Figure size 1296x432 with 1 Axes>"
      ]
     },
     "metadata": {
      "needs_background": "light"
     },
     "output_type": "display_data"
    }
   ],
   "source": [
    "groupby_country = test_february[test_february['group'] == 'test'][['conversion_rate(%)', 'platform']].groupby('platform').mean()\n",
    "groupby_country = groupby_country.reset_index()\n",
    "groupby_country = groupby_country.sort_values('conversion_rate(%)', ascending = False )\n",
    "\n",
    "fig, ax = plt.subplots(figsize=(18, 6))\n",
    "sns.barplot(x='platform', y='conversion_rate(%)', data=groupby_country, ax=ax)\n",
    "plt.show()\n",
    "\n"
   ]
  },
  {
   "cell_type": "markdown",
   "metadata": {},
   "source": [
    "##### Conversion rate vs platforms for may(test group)"
   ]
  },
  {
   "cell_type": "code",
   "execution_count": 226,
   "metadata": {},
   "outputs": [
    {
     "data": {
      "image/png": "[encoded data removed]",
      "text/plain": [
       "<Figure size 1296x432 with 1 Axes>"
      ]
     },
     "metadata": {
      "needs_background": "light"
     },
     "output_type": "display_data"
    }
   ],
   "source": [
    "groupby_country = test_may[test_may['group'] == 'test'][['conversion_rate(%)', 'platform']].groupby('platform').mean()\n",
    "groupby_country = groupby_country.reset_index()\n",
    "groupby_country = groupby_country.sort_values('conversion_rate(%)', ascending = False )\n",
    "\n",
    "fig, ax = plt.subplots(figsize=(18, 6))\n",
    "sns.barplot(x='platform', y='conversion_rate(%)', data=groupby_country, ax=ax)\n",
    "plt.show()\n"
   ]
  },
  {
   "cell_type": "markdown",
   "metadata": {},
   "source": [
    "##### Conversion rate vs platforms for may(control group)"
   ]
  },
  {
   "cell_type": "code",
   "execution_count": 228,
   "metadata": {},
   "outputs": [
    {
     "data": {
      "image/png": "[encoded data removed]",
      "text/plain": [
       "<Figure size 1296x432 with 1 Axes>"
      ]
     },
     "metadata": {
      "needs_background": "light"
     },
     "output_type": "display_data"
    }
   ],
   "source": [
    "groupby_country = test_may[test_may['group'] == 'control'][['conversion_rate(%)', 'platform']].groupby('platform').mean()\n",
    "groupby_country = groupby_country.reset_index()\n",
    "groupby_country = groupby_country.sort_values('conversion_rate(%)', ascending = False )\n",
    "\n",
    "fig, ax = plt.subplots(figsize=(18, 6))\n",
    "sns.barplot(x='platform', y='conversion_rate(%)', data=groupby_country, ax=ax)\n",
    "plt.show()"
   ]
  },
  {
   "cell_type": "markdown",
   "metadata": {},
   "source": [
    "##### Conversion rate vs platforms for february(control group)"
   ]
  },
  {
   "cell_type": "code",
   "execution_count": 229,
   "metadata": {},
   "outputs": [
    {
     "data": {
      "image/png": "[encoded data removed]",
      "text/plain": [
       "<Figure size 1296x432 with 1 Axes>"
      ]
     },
     "metadata": {
      "needs_background": "light"
     },
     "output_type": "display_data"
    }
   ],
   "source": [
    "groupby_country = test_february[test_february['group'] == 'control'][['conversion_rate(%)', 'platform']].groupby('platform').mean()\n",
    "groupby_country = groupby_country.reset_index()\n",
    "groupby_country = groupby_country.sort_values('conversion_rate(%)', ascending = False )\n",
    "\n",
    "fig, ax = plt.subplots(figsize=(18, 6))\n",
    "sns.barplot(x='platform', y='conversion_rate(%)', data=groupby_country, ax=ax)\n",
    "plt.show()\n"
   ]
  },
  {
   "cell_type": "markdown",
   "metadata": {},
   "source": [
    "As expected, US platform is the most valuable platform for Trivago since it has largest number of bookings, largest revenue, highest booking amounts, and highest conversion rate for both datasets and both groups..."
   ]
  },
  {
   "cell_type": "markdown",
   "metadata": {},
   "source": [
    "### What are the global and platform average revenue per click?"
   ]
  },
  {
   "cell_type": "code",
   "execution_count": 235,
   "metadata": {},
   "outputs": [],
   "source": [
    "def global_revenue(df):\n",
    "    result = df['revenue_per_click'].mean()\n",
    "    print('Global revenue per click is {}'.format(result))\n",
    "    \n",
    "def calculate_revenue_per_platform(df):\n",
    "    for platform in list(df['platform'].unique()):\n",
    "        revenue = df.loc[df['platform'] == platform]['revenue_per_click'].mean()\n",
    "        print('Revenue per click on {} platform is {}'.format(platform, revenue))    \n",
    "    \n",
    "    "
   ]
  },
  {
   "cell_type": "markdown",
   "metadata": {},
   "source": [
    "#### Global revenue per click for February"
   ]
  },
  {
   "cell_type": "code",
   "execution_count": 236,
   "metadata": {},
   "outputs": [
    {
     "name": "stdout",
     "output_type": "stream",
     "text": [
      "Global revenue per click is 0.824068094424757\n"
     ]
    }
   ],
   "source": [
    "global_revenue(test_february)"
   ]
  },
  {
   "cell_type": "markdown",
   "metadata": {},
   "source": [
    "#### Global revenue per click for May"
   ]
  },
  {
   "cell_type": "code",
   "execution_count": 237,
   "metadata": {},
   "outputs": [
    {
     "name": "stdout",
     "output_type": "stream",
     "text": [
      "Global revenue per click is 0.8352169516988116\n"
     ]
    }
   ],
   "source": [
    "global_revenue(test_may)"
   ]
  },
  {
   "cell_type": "markdown",
   "metadata": {},
   "source": [
    "####  Revenue per click  per platform for February"
   ]
  },
  {
   "cell_type": "code",
   "execution_count": 197,
   "metadata": {},
   "outputs": [
    {
     "name": "stdout",
     "output_type": "stream",
     "text": [
      "Revenue per click on US platform is 1.2822347072925477\n",
      "Revenue per click on DE platform is 0.6776602209675545\n",
      "Revenue per click on UK platform is 0.8034715244106218\n",
      "Revenue per click on AU platform is 0.9953726894824777\n",
      "Revenue per click on BR platform is 0.4005649797151876\n",
      "Revenue per click on JP platform is 0.785104444680152\n"
     ]
    }
   ],
   "source": [
    "calculate_revenue_per_platform(test_february)"
   ]
  },
  {
   "cell_type": "markdown",
   "metadata": {},
   "source": [
    "####  Revenue per click  per platform for May\n"
   ]
  },
  {
   "cell_type": "code",
   "execution_count": 204,
   "metadata": {},
   "outputs": [
    {
     "name": "stdout",
     "output_type": "stream",
     "text": [
      "Revenue per click on US platform is 1.3074088719252797\n",
      "Revenue per click on DE platform is 0.703926799171062\n",
      "Revenue per click on UK platform is 0.8025945457714159\n",
      "Revenue per click on AU platform is 0.9934394190173078\n",
      "Revenue per click on BR platform is 0.4208551254619807\n",
      "Revenue per click on JP platform is 0.7830769488458222\n"
     ]
    }
   ],
   "source": [
    "calculate_revenue_per_platform(test_may)"
   ]
  },
  {
   "cell_type": "markdown",
   "metadata": {
    "scrolled": false
   },
   "source": [
    "### Do you find any trend in the data?"
   ]
  },
  {
   "cell_type": "markdown",
   "metadata": {},
   "source": [
    "#### Platform vs coversion rate on February for both groups\n"
   ]
  },
  {
   "cell_type": "code",
   "execution_count": 238,
   "metadata": {},
   "outputs": [
    {
     "data": {
      "image/png": "[encoded data removed]",
      "text/plain": [
       "<Figure size 1296x432 with 1 Axes>"
      ]
     },
     "metadata": {
      "needs_background": "light"
     },
     "output_type": "display_data"
    }
   ],
   "source": [
    "fig, ax = plt.subplots(figsize=(18, 6))\n",
    "sns.barplot(x='platform', y='conversion_rate(%)', hue='group', data=test_february, ax=ax)\n",
    "plt.show()\n"
   ]
  },
  {
   "cell_type": "markdown",
   "metadata": {},
   "source": [
    "#### Platform vs coversion rate on May for both groups\n"
   ]
  },
  {
   "cell_type": "code",
   "execution_count": 239,
   "metadata": {},
   "outputs": [
    {
     "data": {
      "image/png": "[encoded data removed]",
      "text/plain": [
       "<Figure size 1296x432 with 1 Axes>"
      ]
     },
     "metadata": {
      "needs_background": "light"
     },
     "output_type": "display_data"
    }
   ],
   "source": [
    "fig, ax = plt.subplots(figsize=(18, 6))\n",
    "sns.barplot(x='platform', y='conversion_rate(%)', hue='group', data=test_may, ax=ax)\n",
    "plt.show()\n"
   ]
  },
  {
   "cell_type": "markdown",
   "metadata": {},
   "source": [
    "From this bars we can conlude that feature from February is giving better conversion rate for test group only on JP platform, but on other platforms it looks like it's not performing better. Otherwise, feature from May is giving better conversion rates for test group on all platforms..."
   ]
  },
  {
   "cell_type": "markdown",
   "metadata": {},
   "source": [
    "##### Day vs bookings in February for control group"
   ]
  },
  {
   "cell_type": "code",
   "execution_count": 257,
   "metadata": {},
   "outputs": [
    {
     "data": {
      "image/png": "[encoded data removed]",
      "text/plain": [
       "<Figure size 1296x432 with 1 Axes>"
      ]
     },
     "metadata": {
      "needs_background": "light"
     },
     "output_type": "display_data"
    }
   ],
   "source": [
    "fig, ax = plt.subplots(figsize=(18, 6))\n",
    "sns.barplot(x='day', y='bookings', data=test_february[test_february['group'] == 'control'], ax=ax)\n",
    "plt.show()\n"
   ]
  },
  {
   "cell_type": "markdown",
   "metadata": {},
   "source": [
    "##### Day vs bookings in February for test group"
   ]
  },
  {
   "cell_type": "code",
   "execution_count": 276,
   "metadata": {},
   "outputs": [
    {
     "data": {
      "image/png": "[encoded data removed]",
      "text/plain": [
       "<Figure size 1296x432 with 1 Axes>"
      ]
     },
     "metadata": {
      "needs_background": "light"
     },
     "output_type": "display_data"
    }
   ],
   "source": [
    "fig, ax = plt.subplots(figsize=(18, 6))\n",
    "sns.barplot(x='day', y='bookings', data=test_february[test_february['group'] == 'test'], ax=ax)\n",
    "plt.show()\n"
   ]
  },
  {
   "cell_type": "markdown",
   "metadata": {},
   "source": [
    "Since February 1st 2019 was Friday, we can see that number of bookings is increasing from Wednesday to Sunday and decreasing from Sunday to Wednesday for control group. For test group in February trend is similar, except that it can be noticed higher number of bookings on Tuesday, two days before Valentine's day..."
   ]
  },
  {
   "cell_type": "markdown",
   "metadata": {},
   "source": [
    "##### Day vs bookings in May for control group\n"
   ]
  },
  {
   "cell_type": "code",
   "execution_count": 256,
   "metadata": {},
   "outputs": [
    {
     "data": {
      "image/png": "[encoded data removed]",
      "text/plain": [
       "<Figure size 1296x432 with 1 Axes>"
      ]
     },
     "metadata": {
      "needs_background": "light"
     },
     "output_type": "display_data"
    }
   ],
   "source": [
    "fig, ax = plt.subplots(figsize=(18, 6))\n",
    "sns.barplot(x='day', y='bookings', data=test_may[test_may['group'] == 'control'], ax=ax)\n",
    "plt.show()\n"
   ]
  },
  {
   "cell_type": "markdown",
   "metadata": {},
   "source": [
    "##### Day vs bookings in May for test group\n"
   ]
  },
  {
   "cell_type": "code",
   "execution_count": 281,
   "metadata": {},
   "outputs": [
    {
     "data": {
      "image/png": "[encoded data removed]",
      "text/plain": [
       "<Figure size 1296x432 with 1 Axes>"
      ]
     },
     "metadata": {
      "needs_background": "light"
     },
     "output_type": "display_data"
    }
   ],
   "source": [
    "fig, ax = plt.subplots(figsize=(18, 6))\n",
    "sns.barplot(x='day', y='bookings', data=test_may[test_may['group'] == 'test'], ax=ax)\n",
    "plt.show()\n"
   ]
  },
  {
   "cell_type": "markdown",
   "metadata": {},
   "source": [
    "Since May 1st 2019 was Wednesday, we can also seen that number of bookings is increasing from Wednesday to Sunday and decreasing from Sunday to Wednesday with little iregularities in trends. For example, we can see higher number of bookings for test group at Friday - May 3rd, than on weekend after it. We can assume that in test group for May, a lot of customers wanted to travel right after Labor day... "
   ]
  },
  {
   "cell_type": "markdown",
   "metadata": {},
   "source": [
    "##### Day vs clicks in May for test group\n"
   ]
  },
  {
   "cell_type": "code",
   "execution_count": 260,
   "metadata": {},
   "outputs": [
    {
     "data": {
      "image/png": "[encoded data removed]",
      "text/plain": [
       "<Figure size 1296x432 with 1 Axes>"
      ]
     },
     "metadata": {
      "needs_background": "light"
     },
     "output_type": "display_data"
    }
   ],
   "source": [
    "fig, ax = plt.subplots(figsize=(18, 6))\n",
    "sns.barplot(x='day', y='clicks', data=test_may[test_may['group'] == 'test'], ax=ax)\n",
    "plt.show()\n"
   ]
  },
  {
   "cell_type": "markdown",
   "metadata": {},
   "source": [
    "##### Day vs clicks in May for control group\n"
   ]
  },
  {
   "cell_type": "code",
   "execution_count": 262,
   "metadata": {},
   "outputs": [
    {
     "data": {
      "image/png": "[encoded data removed]",
      "text/plain": [
       "<Figure size 1296x432 with 1 Axes>"
      ]
     },
     "metadata": {
      "needs_background": "light"
     },
     "output_type": "display_data"
    }
   ],
   "source": [
    "fig, ax = plt.subplots(figsize=(18, 6))\n",
    "sns.barplot(x='day', y='clicks', data=test_may[test_may['group'] == 'control'], ax=ax)\n",
    "plt.show()\n"
   ]
  },
  {
   "cell_type": "markdown",
   "metadata": {},
   "source": [
    "##### Day vs clicks in February for test group\n"
   ]
  },
  {
   "cell_type": "code",
   "execution_count": 273,
   "metadata": {},
   "outputs": [
    {
     "data": {
      "image/png": "[encoded data removed]",
      "text/plain": [
       "<Figure size 1296x432 with 1 Axes>"
      ]
     },
     "metadata": {
      "needs_background": "light"
     },
     "output_type": "display_data"
    }
   ],
   "source": [
    "fig, ax = plt.subplots(figsize=(18, 6))\n",
    "sns.barplot(x='day', y='clicks', data=test_february[test_february['group'] == 'test'], ax=ax)\n",
    "plt.show()\n"
   ]
  },
  {
   "cell_type": "markdown",
   "metadata": {},
   "source": [
    "##### Day vs clicks in February for control group\n"
   ]
  },
  {
   "cell_type": "code",
   "execution_count": 282,
   "metadata": {},
   "outputs": [
    {
     "data": {
      "image/png": "[encoded data removed]",
      "text/plain": [
       "<Figure size 1296x432 with 1 Axes>"
      ]
     },
     "metadata": {
      "needs_background": "light"
     },
     "output_type": "display_data"
    }
   ],
   "source": [
    "fig, ax = plt.subplots(figsize=(18, 6))\n",
    "sns.barplot(x='day', y='clicks', data=test_february[test_february['group'] == 'control'], ax=ax)\n",
    "plt.show()\n"
   ]
  },
  {
   "cell_type": "markdown",
   "metadata": {},
   "source": [
    "We can notice similar trends for clicks on both groups and both datasets. General conclusion is that number of bookings/clicks is increasing from Wednesday to Sunday and decreasing from Sunday to Wednesday. Also, we can see little bit more irregularities in that trend in test group for February than in control group for that month."
   ]
  },
  {
   "cell_type": "markdown",
   "metadata": {},
   "source": [
    "#### Which relation do you think exists between clicks and bookings? And what about visits and bookings? Which one would you consider as more valuable KPI? "
   ]
  },
  {
   "cell_type": "code",
   "execution_count": 267,
   "metadata": {},
   "outputs": [
    {
     "data": {
      "text/plain": [
       "<matplotlib.collections.PathCollection at 0x129b61198>"
      ]
     },
     "execution_count": 267,
     "metadata": {},
     "output_type": "execute_result"
    },
    {
     "data": {
      "image/png": "[encoded data removed]",
      "text/plain": [
       "<Figure size 432x288 with 1 Axes>"
      ]
     },
     "metadata": {
      "needs_background": "light"
     },
     "output_type": "display_data"
    }
   ],
   "source": [
    "plt.scatter(test_february['clicks'], test_february['bookings'])"
   ]
  },
  {
   "cell_type": "code",
   "execution_count": 268,
   "metadata": {},
   "outputs": [
    {
     "data": {
      "text/plain": [
       "<matplotlib.collections.PathCollection at 0x129e652b0>"
      ]
     },
     "execution_count": 268,
     "metadata": {},
     "output_type": "execute_result"
    },
    {
     "data": {
      "image/png": "[encoded data removed]",
      "text/plain": [
       "<Figure size 432x288 with 1 Axes>"
      ]
     },
     "metadata": {
      "needs_background": "light"
     },
     "output_type": "display_data"
    }
   ],
   "source": [
    "plt.scatter(test_may['clicks'], test_may['bookings'])"
   ]
  },
  {
   "cell_type": "code",
   "execution_count": 285,
   "metadata": {},
   "outputs": [
    {
     "data": {
      "text/plain": [
       "0.9694600474754409"
      ]
     },
     "execution_count": 285,
     "metadata": {},
     "output_type": "execute_result"
    }
   ],
   "source": [
    "test_february['clicks'].corr(test_february['bookings'])"
   ]
  },
  {
   "cell_type": "code",
   "execution_count": 286,
   "metadata": {},
   "outputs": [
    {
     "data": {
      "text/plain": [
       "0.9475661121534811"
      ]
     },
     "execution_count": 286,
     "metadata": {},
     "output_type": "execute_result"
    }
   ],
   "source": [
    "test_may['visits'].corr(test_may['bookings'])"
   ]
  },
  {
   "cell_type": "markdown",
   "metadata": {},
   "source": [
    "We can see strong linear relationship between these two pairs of variables, except correlation between clicks and bookings is more linear. Since Trivago platform is working on CPC model, and clicks are actually necessary for redirecting users on advertisers websites and bookings on it, I consider relation between bookings and clicks  more valuable KPI. That's also the reason I've created column coversion rate as relation between bookings and clicks in both datasets."
   ]
  },
  {
   "cell_type": "code",
   "execution_count": null,
   "metadata": {},
   "outputs": [],
   "source": []
  },
  {
   "cell_type": "code",
   "execution_count": null,
   "metadata": {},
   "outputs": [],
   "source": []
  },
  {
   "cell_type": "code",
   "execution_count": null,
   "metadata": {},
   "outputs": [],
   "source": []
  },
  {
   "cell_type": "code",
   "execution_count": 215,
   "metadata": {},
   "outputs": [],
   "source": []
  },
  {
   "cell_type": "code",
   "execution_count": 306,
   "metadata": {},
   "outputs": [
    {
     "name": "stdout",
     "output_type": "stream",
     "text": [
      "Ttest_indResult(statistic=0.013994737805543483, pvalue=0.9888425349724197)\n"
     ]
    }
   ],
   "source": [
    "# A/B test for february\n",
    "test_value_february = test_february[test_february['group'] == 'test']['conversion_rate(%)'].values\n",
    "control_value_february = test_february[test_february['group'] == 'control']['conversion_rate(%)'].values\n",
    "# Welch Two Sample t-test\n",
    "print(ttest_ind(test_value, control_value, equal_var=False))"
   ]
  },
  {
   "cell_type": "code",
   "execution_count": 302,
   "metadata": {},
   "outputs": [
    {
     "name": "stdout",
     "output_type": "stream",
     "text": [
      "Ttest_indResult(statistic=0.013994737805543483, pvalue=0.9888425349724197)\n"
     ]
    }
   ],
   "source": [
    "# A/B test for may\n",
    "test_value_may = test_may[test_may['group'] == 'test']['conversion_rate(%)'].values\n",
    "control_value_may = test_may[test_may['group'] == 'control']['conversion_rate(%)'].values\n",
    "# Welch Two Sample t-test\n",
    "print(ttest_ind(test_value, control_value, equal_var=False))"
   ]
  },
  {
   "cell_type": "code",
   "execution_count": 303,
   "metadata": {},
   "outputs": [],
   "source": [
    "def eval_test(test_results,control_results):\n",
    "    test_result = ttest_ind(test_results, control_results)\n",
    "    if test_result[1] < 0.05:\n",
    "        print('result is significant')\n",
    "    else:\n",
    "        print('result is not significant')"
   ]
  },
  {
   "cell_type": "code",
   "execution_count": 304,
   "metadata": {},
   "outputs": [
    {
     "name": "stdout",
     "output_type": "stream",
     "text": [
      "result is not significant\n"
     ]
    }
   ],
   "source": [
    "eval_test(test_value, control_value)"
   ]
  },
  {
   "cell_type": "code",
   "execution_count": 305,
   "metadata": {},
   "outputs": [
    {
     "name": "stdout",
     "output_type": "stream",
     "text": [
      "result is significant\n"
     ]
    }
   ],
   "source": [
    "eval_test(test_value_may, control_value_may)"
   ]
  }
 ],
 "metadata": {
  "kernelspec": {
   "display_name": ".trivago",
   "language": "python",
   "name": ".trivago"
  },
  "language_info": {
   "codemirror_mode": {
    "name": "ipython",
    "version": 3
   },
   "file_extension": ".py",
   "mimetype": "text/x-python",
   "name": "python",
   "nbconvert_exporter": "python",
   "pygments_lexer": "ipython3",
   "version": "3.7.1"
  }
 },
 "nbformat": 4,
 "nbformat_minor": 2
}
